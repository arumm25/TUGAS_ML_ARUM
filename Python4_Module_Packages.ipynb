{
  "cells": [
    {
      "cell_type": "markdown",
      "metadata": {
        "id": "view-in-github",
        "colab_type": "text"
      },
      "source": [
        "<a href=\"https://colab.research.google.com/github/arumm25/TUGAS_ML_ARUM/blob/main/Python4_Module_Packages.ipynb\" target=\"_parent\"><img src=\"https://colab.research.google.com/assets/colab-badge.svg\" alt=\"Open In Colab\"/></a>"
      ]
    },
    {
      "cell_type": "markdown",
      "metadata": {
        "id": "KPaeIpINSmEw"
      },
      "source": [
        "# Python Bacis 4\n",
        "Modules, Packages and PIP\n",
        "\n",
        "Referensi Tambahan:\n",
        "- https://docs.python.org/3.8/\n",
        "- https://docs.python.org/id/3.8/tutorial/\n",
        "\n",
        "\n",
        "## Materi\n",
        "- importing and using Python modules;\n",
        "- using some of the most useful Python standard library modules;\n",
        "- constructing and using Python packages;\n",
        "- PIP (Python Installation Package) and how to use it to install and uninstall ready-to-use packages from PyPI.\n",
        "\n",
        "## Modules"
      ]
    },
    {
      "cell_type": "markdown",
      "metadata": {
        "id": "Nizi-BmUSmEz"
      },
      "source": [
        "Computer code has a tendency to grow.\n",
        "\n",
        "Growing code is in fact a growing problem.\n",
        "\n",
        "A larger code always means tougher maintenance. Searching for bugs is always easier where the code is smaller\n",
        "\n",
        "If you want such a software project to be completed successfully, you have to have the means allowing you to:\n",
        "- divide all the tasks among the developers;\n",
        "- join all the created parts into one working whole.\n",
        "\n",
        "For example, a certain project can be divided into two main parts:\n",
        "\n",
        "- the user interface (the part that communicates with the user using widgets and a graphical screen)\n",
        "- the logic (the part processing data and producing results)\n",
        "\n",
        "Each of these parts can be (most likely) divided into smaller ones, and so on. Such a process is often called __decomposition__."
      ]
    },
    {
      "cell_type": "markdown",
      "metadata": {
        "id": "eJ7VQO_1SmEz"
      },
      "source": [
        "## How to make use of a module?\n"
      ]
    },
    {
      "cell_type": "markdown",
      "metadata": {
        "id": "h3dMFJw-SmE0"
      },
      "source": [
        "![module.PNG](attachment:module.PNG)\n",
        "\n",
        "- pengguna (__user__) :  Menggunakan module yang sudah ada\n",
        "- penyedia (__supplier__) : Membuat module baru"
      ]
    },
    {
      "cell_type": "markdown",
      "metadata": {
        "id": "TtAMh_LxSmE0"
      },
      "source": [
        "a module is identified by its __name__\n",
        "\n",
        "Each module consists of entities (like a book consists of chapters). These entities can be functions, variables, constants, classes, and objects.\n",
        "\n",
        "![module%20name.PNG](attachment:module%20name.PNG)\n",
        "\n"
      ]
    },
    {
      "cell_type": "markdown",
      "metadata": {
        "id": "hwyGSea-SmE0"
      },
      "source": [
        "## Importing a module"
      ]
    },
    {
      "cell_type": "markdown",
      "metadata": {
        "id": "t4OuFzUoSmE1"
      },
      "source": [
        "Importing a module is done by an instruction named `import`\n",
        "\n",
        "the clause contains:\n",
        "\n",
        "- the `import` keyword;\n",
        "- the `name` of the module which is subject to import.\n",
        "\n",
        "![import.PNG](attachment:import.PNG)"
      ]
    },
    {
      "cell_type": "code",
      "execution_count": 1,
      "metadata": {
        "id": "NQ4CsjwoSmE1"
      },
      "outputs": [],
      "source": [
        "import math"
      ]
    },
    {
      "cell_type": "code",
      "execution_count": 2,
      "metadata": {
        "id": "dgpimpkUSmE2"
      },
      "outputs": [],
      "source": [
        "import math, sys"
      ]
    },
    {
      "cell_type": "markdown",
      "metadata": {
        "id": "xtH7kYp9SmE3"
      },
      "source": [
        "## namespace"
      ]
    },
    {
      "cell_type": "markdown",
      "metadata": {
        "id": "uOiokzeDSmE3"
      },
      "source": [
        "A namespace is a space (understood in a non-physical context) in which some names exist and the names don't conflict with each other (i.e., there are not two different objects of the same name).\n",
        "\n",
        "![namespace.PNG](attachment:namespace.PNG)"
      ]
    },
    {
      "cell_type": "code",
      "execution_count": 4,
      "metadata": {
        "colab": {
          "base_uri": "https://localhost:8080/"
        },
        "id": "6bWDkn1rSmE3",
        "outputId": "0074fd87-05dc-4c0a-9749-b240ed5ec8b3"
      },
      "outputs": [
        {
          "output_type": "stream",
          "name": "stdout",
          "text": [
            "3.141592653589793\n",
            "2.718281828459045\n",
            "3.141592653589793\n",
            "3.141592653589793\n"
          ]
        }
      ],
      "source": [
        "import numpy\n",
        "import math\n",
        "import scipy\n",
        "\n",
        "print(math.pi)\n",
        "print(math.e)\n",
        "print(numpy.pi)\n",
        "print(scipy.constants.pi)\n",
        "#note: pi inside the module won't be affected by pi that we declare in main program"
      ]
    },
    {
      "cell_type": "code",
      "execution_count": 5,
      "metadata": {
        "colab": {
          "base_uri": "https://localhost:8080/"
        },
        "id": "Xz1YEHvvSmE3",
        "outputId": "9e25d028-8cbe-4f04-8730-7aecfdbe1758"
      },
      "outputs": [
        {
          "output_type": "stream",
          "name": "stdout",
          "text": [
            "3.141592653589793\n",
            "2.718281828459045\n"
          ]
        }
      ],
      "source": [
        "from math import pi,e\n",
        "\n",
        "print(pi)\n",
        "print(e)\n",
        "\n",
        "# dir(math)"
      ]
    },
    {
      "cell_type": "markdown",
      "metadata": {
        "id": "KLIwyZCtSmE4"
      },
      "source": [
        "The instruction consists of the following elements:\n",
        "\n",
        "- the `from` keyword;\n",
        "- the `name of the module` to be (selectively) imported;\n",
        "- the `import` keyword;\n",
        "- the `name` or `list of names` of the entity/entities which are being imported into the namespace."
      ]
    },
    {
      "cell_type": "code",
      "execution_count": 6,
      "metadata": {
        "colab": {
          "base_uri": "https://localhost:8080/"
        },
        "id": "9H9WMdCESmE4",
        "outputId": "93d87e8a-f1a1-433d-c354-73bb1a01a575"
      },
      "outputs": [
        {
          "output_type": "stream",
          "name": "stdout",
          "text": [
            "1.0\n",
            "=====\n",
            "0.99999999\n"
          ]
        }
      ],
      "source": [
        "## override nilai sin dan pi\n",
        "from math import sin, pi\n",
        "\n",
        "print(sin(pi/2))\n",
        "\n",
        "print(\"=====\")\n",
        "\n",
        "pi = 3.14\n",
        "\n",
        "def sin(x):\n",
        "    if 2 * x == pi:\n",
        "        return 0.99999999\n",
        "    else:\n",
        "        return None\n",
        "\n",
        "print(sin(pi/2))"
      ]
    },
    {
      "cell_type": "markdown",
      "metadata": {
        "id": "zWgYkcd5SmE4"
      },
      "source": [
        "## Mengimport semua modul"
      ]
    },
    {
      "cell_type": "code",
      "execution_count": 7,
      "metadata": {
        "colab": {
          "base_uri": "https://localhost:8080/"
        },
        "id": "_iB-WSsdSmE4",
        "outputId": "b7b53f33-48ad-4923-ec76-1b8449dd9df0"
      },
      "outputs": [
        {
          "output_type": "stream",
          "name": "stdout",
          "text": [
            "0.0\n"
          ]
        }
      ],
      "source": [
        "from math import *\n",
        "print(tan(0))"
      ]
    },
    {
      "cell_type": "markdown",
      "metadata": {
        "id": "Tc2s0vhgSmE5"
      },
      "source": [
        "Nama dari entitas digantikan dengan asterisk tunggal `*`\n",
        "\n",
        "`*` merupakan instruksi untuk meng-import semua entitas yang ada"
      ]
    },
    {
      "cell_type": "markdown",
      "metadata": {
        "id": "1U-8DB--SmE5"
      },
      "source": [
        "### Aliasing"
      ]
    },
    {
      "cell_type": "markdown",
      "metadata": {
        "id": "kj11wHrASmE5"
      },
      "source": [
        "Untuk nama file yang akan di `import` kan dapat dilakukan proses `aliasing`\n",
        "\n",
        "`Aliasing` menyebabkan `modul` diidentifikasi dengan `nama yang berbeda` dari `aslinya`"
      ]
    },
    {
      "cell_type": "markdown",
      "metadata": {
        "id": "lzPTerVVSmE5"
      },
      "source": [
        "`import` module `as` alias\n",
        "\n",
        "`as` merupakan kata kunci untuk melakukan `aliasing`"
      ]
    },
    {
      "cell_type": "markdown",
      "metadata": {
        "id": "hl4EZYrbSmE5"
      },
      "source": [
        "Jika kita ingin merename `math`, dengan `m` dapat dilakukan dengan cara sebagai berikut."
      ]
    },
    {
      "cell_type": "code",
      "execution_count": 8,
      "metadata": {
        "colab": {
          "base_uri": "https://localhost:8080/"
        },
        "id": "nH5w58EuSmE6",
        "outputId": "7c0610d8-3b8a-4677-cbbe-33da03e9e041"
      },
      "outputs": [
        {
          "output_type": "stream",
          "name": "stdout",
          "text": [
            "3.141592653589793\n"
          ]
        }
      ],
      "source": [
        "import math as m\n",
        "\n",
        "print(m.pi)\n"
      ]
    },
    {
      "cell_type": "markdown",
      "metadata": {
        "id": "u8Bo6GccSmE6"
      },
      "source": [
        "__Note__ : after successful execution of an aliased import, the original module name becomes inaccessible and must not be used."
      ]
    },
    {
      "cell_type": "markdown",
      "metadata": {
        "id": "9ZP0agyASmE6"
      },
      "source": [
        "__from__ `module` __import__ `name` __as__ `alias`\n",
        "\n",
        "__from__ `module` __import__ `n` __as__ `a`, `m` __as__ `b`, `o` __as__ `c`"
      ]
    },
    {
      "cell_type": "code",
      "execution_count": 9,
      "metadata": {
        "colab": {
          "base_uri": "https://localhost:8080/"
        },
        "id": "B9WfsqaBSmE6",
        "outputId": "e603aab9-8aff-4cdf-d3d6-618f761366b0"
      },
      "outputs": [
        {
          "output_type": "stream",
          "name": "stdout",
          "text": [
            "1.0\n"
          ]
        }
      ],
      "source": [
        "from math import pi as PI, sin as sine\n",
        "\n",
        "print(sine(PI/2))"
      ]
    },
    {
      "cell_type": "markdown",
      "metadata": {
        "id": "83nBhoD0SmE6"
      },
      "source": [
        "## Working with standard modules\n",
        "\n",
        "__dir__(`module`)\n",
        "\n",
        "The function returns an alphabetically sorted list containing all entities' names available in the module"
      ]
    },
    {
      "cell_type": "code",
      "execution_count": 10,
      "metadata": {
        "colab": {
          "base_uri": "https://localhost:8080/"
        },
        "id": "blyaPDP5SmE7",
        "outputId": "5a935548-f348-4c51-a2b3-4ee176359213"
      },
      "outputs": [
        {
          "output_type": "stream",
          "name": "stdout",
          "text": [
            "['__doc__', '__loader__', '__name__', '__package__', '__spec__', 'acos', 'acosh', 'asin', 'asinh', 'atan', 'atan2', 'atanh', 'cbrt', 'ceil', 'comb', 'copysign', 'cos', 'cosh', 'degrees', 'dist', 'e', 'erf', 'erfc', 'exp', 'exp2', 'expm1', 'fabs', 'factorial', 'floor', 'fmod', 'frexp', 'fsum', 'gamma', 'gcd', 'hypot', 'inf', 'isclose', 'isfinite', 'isinf', 'isnan', 'isqrt', 'lcm', 'ldexp', 'lgamma', 'log', 'log10', 'log1p', 'log2', 'modf', 'nan', 'nextafter', 'perm', 'pi', 'pow', 'prod', 'radians', 'remainder', 'sin', 'sinh', 'sqrt', 'tan', 'tanh', 'tau', 'trunc', 'ulp']\n"
          ]
        }
      ],
      "source": [
        "import math\n",
        "print(dir(math))"
      ]
    },
    {
      "cell_type": "code",
      "execution_count": 11,
      "metadata": {
        "colab": {
          "base_uri": "https://localhost:8080/"
        },
        "id": "fPTZiRA7SmE7",
        "outputId": "161b0655-906a-4035-9ad3-181e74ef9f5f"
      },
      "outputs": [
        {
          "output_type": "stream",
          "name": "stdout",
          "text": [
            "8.0\n",
            "__doc__\t__loader__\t__name__\t__package__\t__spec__\tacos\tacosh\tasin\tasinh\tatan\tatan2\tatanh\tcbrt\tceil\tcomb\tcopysign\tcos\tcosh\tdegrees\tdist\te\terf\terfc\texp\texp2\texpm1\tfabs\tfactorial\tfloor\tfmod\tfrexp\tfsum\tgamma\tgcd\thypot\tinf\tisclose\tisfinite\tisinf\tisnan\tisqrt\tlcm\tldexp\tlgamma\tlog\tlog10\tlog1p\tlog2\tmodf\tnan\tnextafter\tperm\tpi\tpow\tprod\tradians\tremainder\tsin\tsinh\tsqrt\ttan\ttanh\ttau\ttrunc\tulp\t"
          ]
        }
      ],
      "source": [
        "import math\n",
        "\n",
        "a = math.pow(2,3)\n",
        "print(a)\n",
        "\n",
        "for name in dir(math):\n",
        "    print(name, end=\"\\t\")"
      ]
    },
    {
      "cell_type": "markdown",
      "metadata": {
        "id": "QMb83cycSmE7"
      },
      "source": [
        "###  `math` module"
      ]
    },
    {
      "cell_type": "markdown",
      "metadata": {
        "id": "yReiYMp1SmE8"
      },
      "source": [
        "Let's start with a quick preview of some of the functions provided by the math module.\n",
        "\n",
        "The first group of the math's functions are connected with trigonometry:\n",
        "\n",
        "- `sin(x)` → the sine of x;\n",
        "- `cos(x)` → the cosine of x;\n",
        "- `tan(x)` → the tangent of x.\n",
        "\n",
        "Here are also their inversed versions:\n",
        "\n",
        "- `asin(x)` → the arcsine of x;\n",
        "- `acos(x)` → the arccosine of x;\n",
        "- `atan(x)` → the arctangent of x.\n",
        "\n",
        "`x` is a radian\n",
        "\n",
        "These functions take one argument (mind the domains) and return a measure of an angle in radians."
      ]
    },
    {
      "cell_type": "markdown",
      "metadata": {
        "id": "00AA2gkQSmE8"
      },
      "source": [
        "To effectively operate on angle measurements, the math module provides you with the following entities:\n",
        "\n",
        "- `pi` → a constant with a value that is an approximation of π;\n",
        "- `radians(x)` → a function that converts x from degrees to radians;\n",
        "- `degrees(x)` → acting in the other direction (from radians to degrees)"
      ]
    },
    {
      "cell_type": "code",
      "execution_count": 12,
      "metadata": {
        "colab": {
          "base_uri": "https://localhost:8080/"
        },
        "id": "fdyQfFIzSmE9",
        "outputId": "8829d09a-4cfa-4cdc-c287-1c7c509eab6d"
      },
      "outputs": [
        {
          "output_type": "stream",
          "name": "stdout",
          "text": [
            "1.5707963267948966\n",
            "90.0\n",
            "True\n",
            "True\n",
            "True\n",
            "True\n"
          ]
        }
      ],
      "source": [
        "from math import pi, radians, degrees, sin, cos, tan, asin\n",
        "\n",
        "ad = 90\n",
        "\n",
        "ar = radians(ad)\n",
        "print(ar)\n",
        "ad = degrees(ar)\n",
        "print(ad)\n",
        "\n",
        "print(ad == 90.)\n",
        "print(ar == pi / 2.)\n",
        "print(sin(ar) / cos(ar) == tan(ar))\n",
        "print(asin(sin(ar)) == ar)"
      ]
    },
    {
      "cell_type": "markdown",
      "metadata": {
        "id": "zfNInUIrSmE9"
      },
      "source": [
        "Another group of the math's functions is formed by functions which are connected with exponentiation:\n",
        "\n",
        "- `e` → a constant with a value that is an approximation of Euler's number (e)\n",
        "- `exp(x)` → finding the value of ex;\n",
        "- `log(x)` → the natural logarithm of x\n",
        "- `log(x, b)` → the logarithm of x to base b\n",
        "- `log10(x)` → the decimal logarithm of x (more precise than log(x, 10))\n",
        "- `log2(x)` → the binary logarithm of x (more precise than log(x, 2))"
      ]
    },
    {
      "cell_type": "code",
      "execution_count": 13,
      "metadata": {
        "colab": {
          "base_uri": "https://localhost:8080/"
        },
        "id": "2xRcY_F3SmE9",
        "outputId": "d66001bc-7c60-4d1a-ca59-8bb7a8420e7d"
      },
      "outputs": [
        {
          "output_type": "stream",
          "name": "stdout",
          "text": [
            "True\n",
            "True\n",
            "True\n"
          ]
        }
      ],
      "source": [
        "from math import e, exp, log\n",
        "\n",
        "print(pow(e, 1) == exp(log(e)))\n",
        "print(pow(2, 2) == exp(2 * log(2)))\n",
        "print(log(e, e) == exp(0))"
      ]
    },
    {
      "cell_type": "markdown",
      "metadata": {
        "id": "LrAOOlInSmE-"
      },
      "source": [
        "### Built-in function\n",
        "\n",
        "Note: the pow() function:\n",
        "\n",
        "`pow(x, y)` → finding the value of xy (mind the domains)\n",
        "\n",
        "This is a built-in function, and doesn't have to be imported."
      ]
    },
    {
      "cell_type": "markdown",
      "metadata": {
        "id": "grq4Ex7JSmE-"
      },
      "source": [
        "The last group consists of some general-purpose functions like:\n",
        "\n",
        "- ceil(x) → the ceiling of x (the smallest integer greater than or equal to x)\n",
        "- floor(x) → the floor of x (the largest integer less than or equal to x)\n",
        "- trunc(x) → the value of x truncated to an integer (__be careful__ - it's __not an equivalent__ either of ceil or floor)\n",
        "- factorial(x) → returns x! (x has to be an integral and not a negative)\n",
        "- hypot(x, y) → returns the length of the hypotenuse of a right-angle triangle with the leg lengths equal to x and y (the same as sqrt(pow(x, 2) + pow(y, 2)) but more precise)"
      ]
    },
    {
      "cell_type": "markdown",
      "metadata": {
        "id": "caiHezBaSmE-"
      },
      "source": [
        "It demonstrates the fundamental differences between `ceil()`, `floor()` and `trunc()`."
      ]
    },
    {
      "cell_type": "code",
      "execution_count": 14,
      "metadata": {
        "colab": {
          "base_uri": "https://localhost:8080/"
        },
        "id": "W5vjZMQ4SmE-",
        "outputId": "df2c1497-2da7-49d9-b5ea-8a953c20f04f"
      },
      "outputs": [
        {
          "output_type": "stream",
          "name": "stdout",
          "text": [
            "1 2\n",
            "-2 -3\n",
            "2 3\n",
            "-1 -2\n",
            "1 2\n",
            "-1 -2\n"
          ]
        }
      ],
      "source": [
        "from math import ceil, floor, trunc\n",
        "\n",
        "x = 1.4\n",
        "y = 2.6\n",
        "\n",
        "print(floor(x), floor(y))\n",
        "print(floor(-x), floor(-y))\n",
        "print(ceil(x), ceil(y))\n",
        "print(ceil(-x), ceil(-y))\n",
        "print(trunc(x), trunc(y))\n",
        "print(trunc(-x), trunc(-y))"
      ]
    },
    {
      "cell_type": "markdown",
      "metadata": {
        "id": "Ar8vI6A7SmFP"
      },
      "source": [
        "### `random` Module\n",
        "\n",
        "![random.PNG](attachment:random.PNG)"
      ]
    },
    {
      "cell_type": "markdown",
      "metadata": {
        "id": "p7pPkofVSmFP"
      },
      "source": [
        "It delivers some mechanisms allowing you to operate with __pseudorandom numbers__.\n",
        "\n",
        "__pseudo -__ :  the numbers generated by the modules may look random in the sense that you cannot predict their subsequent values, but don't forget that they all are calculated using very refined algorithms."
      ]
    },
    {
      "cell_type": "code",
      "execution_count": 15,
      "metadata": {
        "colab": {
          "base_uri": "https://localhost:8080/"
        },
        "id": "o6DhhBc0SmFQ",
        "outputId": "fd182c1a-c621-47a5-82fe-9ba550acfe1b"
      },
      "outputs": [
        {
          "output_type": "stream",
          "name": "stdout",
          "text": [
            "0.6788310305401\n",
            "0.16543346640616408\n",
            "0.8316354483675995\n",
            "0.5684455528928823\n",
            "0.5121013703520766\n"
          ]
        }
      ],
      "source": [
        "from random import random\n",
        "for i in range(5):\n",
        "    print(random())"
      ]
    },
    {
      "cell_type": "code",
      "execution_count": 16,
      "metadata": {
        "colab": {
          "base_uri": "https://localhost:8080/"
        },
        "id": "r8YTllEUSmFR",
        "outputId": "9b0b75a3-cb69-46a5-8e2f-482209442050"
      },
      "outputs": [
        {
          "output_type": "execute_result",
          "data": {
            "text/plain": [
              "['BPF',\n",
              " 'LOG4',\n",
              " 'NV_MAGICCONST',\n",
              " 'RECIP_BPF',\n",
              " 'Random',\n",
              " 'SG_MAGICCONST',\n",
              " 'SystemRandom',\n",
              " 'TWOPI',\n",
              " '_ONE',\n",
              " '_Sequence',\n",
              " '_Set',\n",
              " '__all__',\n",
              " '__builtins__',\n",
              " '__cached__',\n",
              " '__doc__',\n",
              " '__file__',\n",
              " '__loader__',\n",
              " '__name__',\n",
              " '__package__',\n",
              " '__spec__',\n",
              " '_accumulate',\n",
              " '_acos',\n",
              " '_bisect',\n",
              " '_ceil',\n",
              " '_cos',\n",
              " '_e',\n",
              " '_exp',\n",
              " '_floor',\n",
              " '_index',\n",
              " '_inst',\n",
              " '_isfinite',\n",
              " '_log',\n",
              " '_os',\n",
              " '_pi',\n",
              " '_random',\n",
              " '_repeat',\n",
              " '_sha512',\n",
              " '_sin',\n",
              " '_sqrt',\n",
              " '_test',\n",
              " '_test_generator',\n",
              " '_urandom',\n",
              " '_warn',\n",
              " 'betavariate',\n",
              " 'choice',\n",
              " 'choices',\n",
              " 'expovariate',\n",
              " 'gammavariate',\n",
              " 'gauss',\n",
              " 'getrandbits',\n",
              " 'getstate',\n",
              " 'lognormvariate',\n",
              " 'normalvariate',\n",
              " 'paretovariate',\n",
              " 'randbytes',\n",
              " 'randint',\n",
              " 'random',\n",
              " 'randrange',\n",
              " 'sample',\n",
              " 'seed',\n",
              " 'setstate',\n",
              " 'shuffle',\n",
              " 'triangular',\n",
              " 'uniform',\n",
              " 'vonmisesvariate',\n",
              " 'weibullvariate']"
            ]
          },
          "metadata": {},
          "execution_count": 16
        }
      ],
      "source": [
        "import random\n",
        "dir(random)"
      ]
    },
    {
      "cell_type": "markdown",
      "metadata": {
        "id": "DQX1CNN9SmFS"
      },
      "source": [
        "If you want integer random values, one of the following functions would fit better:\n",
        "\n",
        "- randrange(end)\n",
        "- randrange(beg, end)\n",
        "- randrange(beg, end, step)\n",
        "- randint(left, right)"
      ]
    },
    {
      "cell_type": "code",
      "execution_count": 17,
      "metadata": {
        "colab": {
          "base_uri": "https://localhost:8080/"
        },
        "id": "4PYvYJPZSmFT",
        "outputId": "38a8df0b-6e35-4a92-9761-3034b6a6e552"
      },
      "outputs": [
        {
          "output_type": "stream",
          "name": "stdout",
          "text": [
            "118\n",
            "89\n",
            "160\n",
            "5\n"
          ]
        }
      ],
      "source": [
        "# ini kode apa\n",
        "from random import randrange, randint\n",
        "\n",
        "print(randrange(200), end='\\n')\n",
        "print(randrange(50, 100), end='\\n')\n",
        "print(randrange(50, 200, 10), end='\\n')\n",
        "print(randint(5, 10))"
      ]
    },
    {
      "cell_type": "markdown",
      "metadata": {
        "id": "QnCIxDrrSmFT"
      },
      "source": [
        "This is what we got in one of the launches:\n",
        "\n",
        "__`9,4,5,4,5,8,9,4,8,4,`__"
      ]
    },
    {
      "cell_type": "markdown",
      "metadata": {
        "id": "pQPmhPd7SmFU"
      },
      "source": [
        "It's a function named in a very suggestive way - choice:\n",
        "\n",
        "choice(sequence)\n",
        "sample(sequence, elements_to_choose=1)"
      ]
    },
    {
      "cell_type": "code",
      "execution_count": 18,
      "metadata": {
        "colab": {
          "base_uri": "https://localhost:8080/"
        },
        "id": "eDCMbPKGSmFU",
        "outputId": "7a4796f7-35bd-449c-c86a-467375beac17"
      },
      "outputs": [
        {
          "output_type": "stream",
          "name": "stdout",
          "text": [
            "Cakra\n",
            "[7]\n",
            "[4, 3, 10, 2, 9, 7, 6, 8, 5, 1]\n"
          ]
        }
      ],
      "source": [
        "from random import choice, sample\n",
        "\n",
        "lst = [1, 2, 3, 4, 5, 6, 7, 8, 9, 10]\n",
        "siswa = ['Ani','Budi','Cakra','Desi']\n",
        "print(choice(siswa))\n",
        "print(sample(lst, 1))\n",
        "print(sample(lst, 10))"
      ]
    },
    {
      "cell_type": "code",
      "execution_count": 19,
      "metadata": {
        "colab": {
          "base_uri": "https://localhost:8080/"
        },
        "id": "M9c13-GKSmFV",
        "outputId": "adf46c03-2142-4ccd-890e-5880b7d2f581"
      },
      "outputs": [
        {
          "output_type": "stream",
          "name": "stdout",
          "text": [
            "9,3,3,3,7,3,6,4,3,6,"
          ]
        }
      ],
      "source": [
        "from random import randint\n",
        "\n",
        "for i in range(10):\n",
        "    print(randint(1, 10), end=',')"
      ]
    },
    {
      "cell_type": "markdown",
      "metadata": {
        "id": "BkY8MP_nSmFV"
      },
      "source": [
        "### How to know where you are?"
      ]
    },
    {
      "cell_type": "code",
      "execution_count": 20,
      "metadata": {
        "colab": {
          "base_uri": "https://localhost:8080/"
        },
        "id": "898Z5M8wSmFW",
        "outputId": "67340d4f-061b-42e8-dc54-2c3ebe4649ce"
      },
      "outputs": [
        {
          "output_type": "stream",
          "name": "stdout",
          "text": [
            "Linux-6.1.85+-x86_64-with-glibc2.35\n",
            "Linux-6.1.85+-x86_64-with-glibc2.35\n",
            "Linux-6.1.85+-x86_64-with-glibc2.35\n"
          ]
        }
      ],
      "source": [
        "from platform import platform\n",
        "\n",
        "print(platform())\n",
        "print(platform(1))\n",
        "print(platform(0, 1))"
      ]
    },
    {
      "cell_type": "code",
      "execution_count": 22,
      "metadata": {
        "colab": {
          "base_uri": "https://localhost:8080/"
        },
        "id": "cnjLzNdBSmFW",
        "outputId": "be3234f9-ac3e-4eb1-bf7e-af4112908765"
      },
      "outputs": [
        {
          "output_type": "execute_result",
          "data": {
            "text/plain": [
              "['_Processor',\n",
              " '_WIN32_CLIENT_RELEASES',\n",
              " '_WIN32_SERVER_RELEASES',\n",
              " '__builtins__',\n",
              " '__cached__',\n",
              " '__copyright__',\n",
              " '__doc__',\n",
              " '__file__',\n",
              " '__loader__',\n",
              " '__name__',\n",
              " '__package__',\n",
              " '__spec__',\n",
              " '__version__',\n",
              " '_comparable_version',\n",
              " '_component_re',\n",
              " '_default_architecture',\n",
              " '_follow_symlinks',\n",
              " '_get_machine_win32',\n",
              " '_ironpython26_sys_version_parser',\n",
              " '_ironpython_sys_version_parser',\n",
              " '_java_getprop',\n",
              " '_libc_search',\n",
              " '_mac_ver_xml',\n",
              " '_node',\n",
              " '_norm_version',\n",
              " '_os_release_cache',\n",
              " '_os_release_candidates',\n",
              " '_os_release_line',\n",
              " '_os_release_unescape',\n",
              " '_parse_os_release',\n",
              " '_platform',\n",
              " '_platform_cache',\n",
              " '_pypy_sys_version_parser',\n",
              " '_sys_version',\n",
              " '_sys_version_cache',\n",
              " '_sys_version_parser',\n",
              " '_syscmd_file',\n",
              " '_syscmd_ver',\n",
              " '_uname_cache',\n",
              " '_unknown_as_blank',\n",
              " '_ver_output',\n",
              " '_ver_stages',\n",
              " 'architecture',\n",
              " 'collections',\n",
              " 'freedesktop_os_release',\n",
              " 'functools',\n",
              " 'itertools',\n",
              " 'java_ver',\n",
              " 'libc_ver',\n",
              " 'mac_ver',\n",
              " 'machine',\n",
              " 'node',\n",
              " 'os',\n",
              " 'platform',\n",
              " 'processor',\n",
              " 'python_branch',\n",
              " 'python_build',\n",
              " 'python_compiler',\n",
              " 'python_implementation',\n",
              " 'python_revision',\n",
              " 'python_version',\n",
              " 'python_version_tuple',\n",
              " 're',\n",
              " 'release',\n",
              " 'sys',\n",
              " 'system',\n",
              " 'system_alias',\n",
              " 'uname',\n",
              " 'uname_result',\n",
              " 'version',\n",
              " 'win32_edition',\n",
              " 'win32_is_iot',\n",
              " 'win32_ver']"
            ]
          },
          "metadata": {},
          "execution_count": 22
        }
      ],
      "source": [
        "import platform\n",
        "dir(platform)"
      ]
    },
    {
      "cell_type": "code",
      "execution_count": 23,
      "metadata": {
        "colab": {
          "base_uri": "https://localhost:8080/"
        },
        "id": "wnPP9-5oSmFX",
        "outputId": "41785f25-345c-44f7-f48f-1b4d3b57279f"
      },
      "outputs": [
        {
          "output_type": "stream",
          "name": "stdout",
          "text": [
            "x86_64\n"
          ]
        }
      ],
      "source": [
        "from platform import machine\n",
        "\n",
        "print(machine())"
      ]
    },
    {
      "cell_type": "code",
      "execution_count": 24,
      "metadata": {
        "colab": {
          "base_uri": "https://localhost:8080/"
        },
        "id": "elYjo2fOSmFX",
        "outputId": "95fbf079-9091-4005-c3ba-c7227628a769"
      },
      "outputs": [
        {
          "output_type": "stream",
          "name": "stdout",
          "text": [
            "x86_64\n"
          ]
        }
      ],
      "source": [
        "from platform import processor\n",
        "\n",
        "print(processor())"
      ]
    },
    {
      "cell_type": "markdown",
      "metadata": {
        "id": "tuE8jvadSmFY"
      },
      "source": [
        "You can read about all standard Python modules here: https://docs.python.org/3/py-modindex.html."
      ]
    },
    {
      "cell_type": "markdown",
      "metadata": {
        "id": "TtcYLpetSmFY"
      },
      "source": [
        "# Package"
      ]
    },
    {
      "cell_type": "markdown",
      "metadata": {
        "id": "ulUBg2dzSmFY"
      },
      "source": [
        "![pacakge.PNG](attachment:pacakge.PNG)"
      ]
    },
    {
      "cell_type": "markdown",
      "metadata": {
        "id": "QV0F27KPSmFZ"
      },
      "source": [
        "- __a module is a kind of container filled with functions__ - you can pack as many functions as you want into one module and distribute it across the world;\n",
        "- of course, it's generally __a good idea not to mix functions with different application areas__ within one module\n",
        "- making many modules may cause a little mess - sooner or later you'll want to __group your modules__ exactly in the same way as you've previously grouped functions\n",
        "- __package__; in the world of modules, a package plays a similar role to a folder/directory in the world of files."
      ]
    },
    {
      "cell_type": "markdown",
      "metadata": {
        "id": "VQyQ_kQGSmFZ"
      },
      "source": [
        "### Membuat modul\n",
        "\n",
        "Pertama,kita membuat 2 file dengan nama aritmatika.py dan main.py\n",
        "\n",
        "Langkah:\n",
        "\n",
        "artimatika.py:\n",
        "\n",
        "- Buka python IDLE\n",
        "- Klik __file__ dan pilih __new file__\n",
        "- Simpan file dengan nama __aritmatika.py__\n",
        "\n",
        "main.py:\n",
        "\n",
        "- Buka python IDLE\n",
        "- Klik __file__ dan pilih __new file__\n",
        "- Simpan file dengan __main.py__\n",
        "\n",
        "Note: __Kedua file disimpan dalam satu folder yang sama.__\n"
      ]
    },
    {
      "cell_type": "code",
      "execution_count": 25,
      "metadata": {
        "id": "jNhsDzRQSmFa"
      },
      "outputs": [],
      "source": [
        "# aritmatika.py\n",
        "\n",
        "def tambah(a,b):\n",
        "    return a+b\n",
        "\n",
        "def kurang(a,b):\n",
        "    return a-b\n",
        "\n",
        "def kali(a,b):\n",
        "    return a*b\n",
        "\n",
        "def bagi(a,b):\n",
        "    return a/b"
      ]
    },
    {
      "cell_type": "code",
      "source": [
        "!pip install aritmatika"
      ],
      "metadata": {
        "colab": {
          "base_uri": "https://localhost:8080/"
        },
        "id": "plM08VMtTRKw",
        "outputId": "7d1b01eb-a881-4797-dfe7-bad625667c00"
      },
      "execution_count": 27,
      "outputs": [
        {
          "output_type": "stream",
          "name": "stdout",
          "text": [
            "Collecting aritmatika\n",
            "  Downloading aritmatika-0.0.7.tar.gz (6.3 kB)\n",
            "  Preparing metadata (setup.py) ... \u001b[?25l\u001b[?25hdone\n",
            "Building wheels for collected packages: aritmatika\n",
            "  Building wheel for aritmatika (setup.py) ... \u001b[?25l\u001b[?25hdone\n",
            "  Created wheel for aritmatika: filename=aritmatika-0.0.7-py3-none-any.whl size=7410 sha256=6f97922359ebe877faf26db22e0af574fa7302003914cb7e6f8cc4bb725a29db\n",
            "  Stored in directory: /root/.cache/pip/wheels/f5/71/03/f4610841102b2c3b9c6895f885cdb7468486e5e92db175f408\n",
            "Successfully built aritmatika\n",
            "Installing collected packages: aritmatika\n",
            "Successfully installed aritmatika-0.0.7\n"
          ]
        }
      ]
    },
    {
      "cell_type": "code",
      "execution_count": 34,
      "metadata": {
        "id": "9NmfuqX5SmFa"
      },
      "outputs": [],
      "source": [
        "import aritmatika"
      ]
    },
    {
      "cell_type": "markdown",
      "source": [],
      "metadata": {
        "id": "2t2T-7iwTkBI"
      }
    },
    {
      "cell_type": "code",
      "execution_count": 33,
      "metadata": {
        "colab": {
          "base_uri": "https://localhost:8080/"
        },
        "id": "fmqIbXmZSmFa",
        "outputId": "53960841-4c5e-4f90-a906-c5a6dd7ec53f"
      },
      "outputs": [
        {
          "output_type": "stream",
          "name": "stdout",
          "text": [
            "7\n",
            "-1\n",
            "12\n",
            "0.75\n"
          ]
        }
      ],
      "source": [
        "\n",
        "\n",
        "a = tambah(3, 4)\n",
        "b = kurang(3, 4)\n",
        "c = kali(3, 4)\n",
        "d = bagi(3, 4)\n",
        "\n",
        "print(a)\n",
        "print(b)\n",
        "print(c)\n",
        "print(d)"
      ]
    },
    {
      "cell_type": "markdown",
      "source": [],
      "metadata": {
        "id": "BqSr30IlT1_6"
      }
    },
    {
      "cell_type": "code",
      "execution_count": 38,
      "metadata": {
        "colab": {
          "base_uri": "https://localhost:8080/"
        },
        "id": "9rK2WI-gSmFa",
        "outputId": "6ff47313-1640-47aa-c121-4ef4d441d513"
      },
      "outputs": [
        {
          "output_type": "stream",
          "name": "stdout",
          "text": [
            "13\n"
          ]
        }
      ],
      "source": [
        "\n",
        "\n",
        "a=tambah(10,3)\n",
        "print(a)"
      ]
    },
    {
      "cell_type": "code",
      "source": [
        "from google.colab import drive\n",
        "drive.mount('/content/drive')"
      ],
      "metadata": {
        "id": "gqAHPJKRWdFf"
      },
      "execution_count": null,
      "outputs": []
    },
    {
      "cell_type": "markdown",
      "metadata": {
        "id": "ynPWYZgDSmFb"
      },
      "source": [
        "# Package"
      ]
    },
    {
      "cell_type": "markdown",
      "metadata": {
        "id": "QQpEa83hSmFb"
      },
      "source": [
        "1. Buatlah folder dengan nama LATIHAN_PYTHON\n",
        "2. Dalam folder LATIHAN_PYTHON, buatlah folder dengan nama latihan_package, file main.py, dan file `__init__.py`\n",
        "3. Dalam latihan_package, buatlah 2 file, dengan nama alpha.py dan beta.py"
      ]
    },
    {
      "cell_type": "code",
      "execution_count": 40,
      "metadata": {
        "id": "Rhcew5GbSmFb"
      },
      "outputs": [],
      "source": [
        "alpha.py\n",
        "def alphaSatu():\n",
        "\tprint(\"alpha   Satu\")\n",
        "\n",
        "def alphaDua():\n",
        "\tprint(\"alphaDua\")\n",
        "\n",
        "#beta.py\n",
        "# def betaSatu():\n",
        "# \tprint(\"betaSatu\")\n",
        "\n",
        "# def betaDua():\n",
        "# \tprint(\"betaDua\")\n",
        "\n",
        "#main.py\n",
        "\n",
        "# import latihan_package.alpha as a\n",
        "# import latihan_package.beta as b\n",
        "\n",
        "# a.alphaSatu()\n",
        "\n"
      ]
    },
    {
      "cell_type": "code",
      "execution_count": 43,
      "metadata": {
        "colab": {
          "base_uri": "https://localhost:8080/"
        },
        "id": "J6z4I8PNSmFc",
        "outputId": "2004e3b3-b022-4bae-87ac-6d14b1fd2f8a"
      },
      "outputs": [
        {
          "output_type": "stream",
          "name": "stdout",
          "text": [
            "alpha   Satu\n",
            "betaSatu\n"
          ]
        }
      ],
      "source": [
        "import os\n",
        "\n",
        "# Change the current working directory to the directory containing 'main.py'\n",
        "# not to 'main.py' itself\n",
        "os.chdir(r\"/content/LATIHAN_PYTHON\")\n",
        "\n",
        "import latihan_package.alpha as a, latihan_package.beta as b\n",
        "\n",
        "a.alphaSatu()\n",
        "b.betaSatu()"
      ]
    },
    {
      "cell_type": "code",
      "execution_count": 44,
      "metadata": {
        "id": "lMkUEmfFSmFc"
      },
      "outputs": [],
      "source": [
        "os.chdir(r\"/content/LATIHAN_PYTHON\")"
      ]
    },
    {
      "cell_type": "code",
      "execution_count": 45,
      "metadata": {
        "colab": {
          "base_uri": "https://localhost:8080/"
        },
        "id": "4IM90KwfSmFc",
        "outputId": "6c7c0f99-2e8b-4a64-d21a-a6ae42454e59"
      },
      "outputs": [
        {
          "output_type": "stream",
          "name": "stdout",
          "text": [
            "/content/LATIHAN_PYTHON\n"
          ]
        }
      ],
      "source": [
        "import os\n",
        "os.getcwd()\n",
        "\n",
        "print(os.getcwd())"
      ]
    },
    {
      "cell_type": "markdown",
      "metadata": {
        "id": "dPMuU3NXSmFd"
      },
      "source": [
        "#### Konsep package\n",
        "\n",
        "![pacakgetree.PNG](attachment:pacakgetree.PNG)\n",
        "\n",
        "`packages`, like modules, may require initialization.\n",
        "\n",
        "Python expects that there is a file with a very unique name inside the package's folder:`__init__.py.`\n",
        "\n",
        "The content of the file is executed when any of the package's modules is imported.\n",
        "\n",
        "If you don't want any special initializations, you can leave the __file empty__, but you mustn't omit it.\n",
        "\n"
      ]
    },
    {
      "cell_type": "code",
      "execution_count": 46,
      "metadata": {
        "colab": {
          "base_uri": "https://localhost:8080/"
        },
        "id": "4lA7c8e7SmFd",
        "outputId": "05ff0594-07d4-4a0b-9d19-f263c0415f35"
      },
      "outputs": [
        {
          "output_type": "stream",
          "name": "stdout",
          "text": [
            "alpha   Satu\n"
          ]
        }
      ],
      "source": [
        "os.chdir(r\"/content/LATIHAN_PYTHON\")\n",
        "\n",
        "import latihan_package.alpha as a\n",
        "a.alphaSatu()"
      ]
    },
    {
      "cell_type": "code",
      "execution_count": 48,
      "metadata": {
        "colab": {
          "base_uri": "https://localhost:8080/"
        },
        "id": "QLdtBO5cSmFe",
        "outputId": "b8964dec-ed15-4295-c630-73f3631c55ce"
      },
      "outputs": [
        {
          "output_type": "stream",
          "name": "stdout",
          "text": [
            "alpha   Satu\n"
          ]
        }
      ],
      "source": [
        "import latihan_package.alpha as alpha\n",
        "\n",
        "alpha.alphaSatu()"
      ]
    },
    {
      "cell_type": "markdown",
      "metadata": {
        "id": "ljMjf6PASmFe"
      },
      "source": [
        "# PyPI (Python Package Index), PIP installs packages\n",
        "\n",
        "- (https://pypi.org/) PyPI has lots of software in stock and it's available 24/7. It's fully entitled to identify itself as Ye International Python Software Emporium.\n",
        "- Some Python installations come with pip, some don't. What’s more, it doesn’t only depend on the OS you use, although this is a very important factor.\n",
        "\n",
        "#### List of main PIP activities\n",
        "- `pip help operation` - shows brief pip's description;\n",
        "- `pip list` - shows list of currently installed packages;\n",
        "- `pip show package_name` - shows package_name info including package's dependencies;\n",
        "- `pip search anystring` - searches through PyPI directories in order to find packages which name contains anystring;\n",
        "- `pip install name` - installs name system-wide (expect problems when you don't have administrative rights);\n",
        "- `pip install` --user name - install name for you only; no other your platform's user will be able to use it;\n",
        "- `pip install -U name` - updates previously installed package;\n",
        "- `pip uninstall name` - uninstalls previously installed package;"
      ]
    },
    {
      "cell_type": "code",
      "execution_count": null,
      "metadata": {
        "id": "EvDB7FX2SmFe"
      },
      "outputs": [],
      "source": [
        "pip --version"
      ]
    },
    {
      "cell_type": "code",
      "execution_count": null,
      "metadata": {
        "id": "inQhpeMpSmFf"
      },
      "outputs": [],
      "source": [
        "pip help"
      ]
    }
  ],
  "metadata": {
    "kernelspec": {
      "display_name": "Python 3 (ipykernel)",
      "language": "python",
      "name": "python3"
    },
    "language_info": {
      "codemirror_mode": {
        "name": "ipython",
        "version": 3
      },
      "file_extension": ".py",
      "mimetype": "text/x-python",
      "name": "python",
      "nbconvert_exporter": "python",
      "pygments_lexer": "ipython3",
      "version": "3.9.5"
    },
    "colab": {
      "provenance": [],
      "include_colab_link": true
    }
  },
  "nbformat": 4,
  "nbformat_minor": 0
}